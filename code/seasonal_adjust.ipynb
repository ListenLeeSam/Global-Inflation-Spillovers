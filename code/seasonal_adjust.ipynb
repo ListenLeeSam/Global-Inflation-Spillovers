{
 "cells": [
  {
   "cell_type": "code",
   "execution_count": 1,
   "metadata": {},
   "outputs": [],
   "source": [
    "import pandas as pd\n",
    "import statsmodels.api as sm\n",
    "import matplotlib.pyplot as plt\n"
   ]
  },
  {
   "cell_type": "code",
   "execution_count": 16,
   "metadata": {},
   "outputs": [
    {
     "name": "stdout",
     "output_type": "stream",
     "text": [
      "count    312.000000\n",
      "mean       0.001558\n",
      "std        0.006206\n",
      "min       -0.013986\n",
      "25%       -0.002002\n",
      "50%        0.000997\n",
      "75%        0.004989\n",
      "max        0.025668\n",
      "Name: China_log_growth_rate, dtype: float64\n"
     ]
    }
   ],
   "source": [
    "import pandas as pd\n",
    "import numpy as np\n",
    "\n",
    "# 1. 读取CSV文件\n",
    "df = pd.read_csv(r\"C:\\Users\\rog\\Desktop\\CPI_X13ARIMA_SEATS.csv\")\n",
    "\n",
    "# 2. 提取\"China\"列并计算对数环比增长率\n",
    "df['China_log_growth_rate'] = np.log(df['China'] / df['China'].shift(1))\n",
    "\n",
    "# 3. 计算描述性统计\n",
    "china_desc_stats = df['China_log_growth_rate'].describe()\n",
    "\n",
    "# 4. 显示结果\n",
    "print(china_desc_stats)\n",
    "\n"
   ]
  },
  {
   "cell_type": "code",
   "execution_count": 17,
   "metadata": {},
   "outputs": [
    {
     "name": "stdout",
     "output_type": "stream",
     "text": [
      "不平稳的国家：\n",
      "['Afghanistan', 'Albania', 'Algeria', 'Angola', 'Antigua and Barbuda', 'Armenia', 'Austria', 'Azerbaijan', 'Bahamas', 'Bahrain', 'Bangladesh', 'Barbados', 'Belarus', 'Belgium', 'Benin', 'Bolivia', 'Bosnia and Herzegovina', 'Botswana', 'Brazil', 'Brunei', 'Bulgaria', 'Burundi', 'Burkina Faso', 'Cape Verde', 'Cambodia', 'Cameroon', 'Canada', 'Central African Republic', 'Chad', 'Chile', 'China', 'Colombia', 'Congo', 'Costa Rica', 'Croatia', 'Cyprus', 'Czech Republic', 'Denmark', 'Djibouti', 'Dominica', 'Dominican Republic', 'Ecuador', 'Egypt', 'El Salvador', 'Equatorial Guinea', 'Estonia', 'Swaziland', 'Ethiopia', 'Fiji', 'Finland', 'France', 'Gabon', 'Gambia', 'Georgia', 'Germany', 'Ghana', 'Greece', 'Grenada', 'Guatemala', 'Guinea', 'Guinea-Bissau', 'Guyana', 'Haiti', 'Honduras', 'Hong Kong Special Administrative Region of China', 'Hungary', 'Iceland', 'India', 'Indonesia', 'Iran', 'Iraq', 'Ireland', 'Israel', 'Italy', \"Côte d'Ivoire\", 'Jamaica', 'Japan', 'Jordan', 'Kazakhstan', 'Kenya', 'Kiribati', 'Kosovo', 'Kuwait', 'Kyrgyzstan', 'Laos', 'Latvia', 'Lebanon', 'Lesotho', 'Liberia', 'Libya', 'Lithuania', 'Luxembourg', 'Macao Special Administrative Region of China', 'Madagascar', 'Malawi', 'Malaysia', 'Maldives', 'Mali', 'Malta', 'Mauritania', 'Mexico', 'Mauritius', 'Moldova', 'Mongolia', 'Montenegro', 'Morocco', 'Mozambique', 'Myanmar', 'Namibia', 'Nepal', 'Netherlands', 'Nicaragua', 'Niger', 'Nigeria', 'Macedonia', 'Norway', 'Oman', 'Pakistan', 'Paraguay', 'Panama', 'Peru', 'Philippines', 'Poland', 'Portugal', 'Qatar', 'Romania', 'Russian Federation', 'Rwanda', 'Saint Kitts and Nevis', 'Saint Lucia', 'Saint Vincent and the Grenadines', 'Samoa', 'San Marino', 'Sao Tome and Principe', 'Saudi Arabia', 'Senegal', 'Serbia', 'Seychelles', 'Sierra Leone', 'Singapore', 'Slovakia', 'Slovenia', 'Solomon Islands', 'South Africa', 'South Korea', 'South Sudan', 'Spain', 'Sri Lanka', 'Occupied Palestinian Territory', 'Sudan', 'Suriname', 'Sweden', 'Switzerland', 'Tanzania', 'Thailand', 'Timor-Leste', 'Togo', 'Tonga', 'Trinidad and Tobago', 'Tunisia', 'Turkey', 'Uganda', 'Ukraine', 'United Arab Emirates', 'United Kingdom', 'United States', 'Uruguay', 'Uzbekistan', 'Viet Nam', 'Zambia', 'Zimbabwe']\n"
     ]
    }
   ],
   "source": [
    "import pandas as pd\n",
    "from statsmodels.tsa.stattools import adfuller\n",
    "\n",
    "# 1. 读取CSV文件\n",
    "df = pd.read_csv(r\"C:\\Users\\rog\\Desktop\\CPI_X13ARIMA_SEATS.csv\")\n",
    "\n",
    "# 2. 定义一个函数进行ADF检验\n",
    "def adf_test(series):\n",
    "    result = adfuller(series.dropna())  # ADF检验，dropna是为了避免缺失值\n",
    "    return result[1]  # 返回p值\n",
    "\n",
    "# 3. 对每个国家的CPI数据进行ADF检验\n",
    "non_stationary_countries = []\n",
    "\n",
    "# 4. 检验每列数据\n",
    "for column in df.columns[1:]:  # 假设第一列是Date，跳过它\n",
    "    p_value = adf_test(df[column])\n",
    "    if p_value > 0.05:  # p值大于0.05时，认为数据不平稳\n",
    "        non_stationary_countries.append(column)\n",
    "\n",
    "# 5. 输出不平稳的国家\n",
    "print(\"不平稳的国家：\")\n",
    "print(non_stationary_countries)\n"
   ]
  },
  {
   "cell_type": "code",
   "execution_count": 19,
   "metadata": {},
   "outputs": [
    {
     "name": "stdout",
     "output_type": "stream",
     "text": [
      "季节性调整后平稳的国家：\n",
      "['Afghanistan', 'Albania', 'Algeria', 'Angola', 'Antigua and Barbuda', 'Armenia', 'Austria', 'Azerbaijan', 'Bahamas', 'Bahrain', 'Bangladesh', 'Barbados', 'Belarus', 'Belgium', 'Benin', 'Bolivia', 'Bosnia and Herzegovina', 'Botswana', 'Brazil', 'Brunei', 'Bulgaria', 'Burundi', 'Burkina Faso', 'Cape Verde', 'Cambodia', 'Cameroon', 'Canada', 'Central African Republic', 'Chad', 'Chile', 'China', 'Colombia', 'Congo', 'Costa Rica', 'Croatia', 'Cyprus', 'Czech Republic', 'Denmark', 'Djibouti', 'Dominica', 'Dominican Republic', 'Ecuador', 'Egypt', 'El Salvador', 'Equatorial Guinea', 'Estonia', 'Swaziland', 'Ethiopia', 'Fiji', 'Finland', 'France', 'Gabon', 'Gambia', 'Georgia', 'Germany', 'Ghana', 'Greece', 'Grenada', 'Guatemala', 'Guinea', 'Guinea-Bissau', 'Guyana', 'Haiti', 'Honduras', 'Hong Kong Special Administrative Region of China', 'Hungary', 'Iceland', 'India', 'Indonesia', 'Iran', 'Iraq', 'Ireland', 'Israel', 'Italy', \"Côte d'Ivoire\", 'Jamaica', 'Japan', 'Jordan', 'Kazakhstan', 'Kenya', 'Kiribati', 'Kosovo', 'Kuwait', 'Kyrgyzstan', 'Laos', 'Latvia', 'Lesotho', 'Liberia', 'Libya', 'Lithuania', 'Luxembourg', 'Macao Special Administrative Region of China', 'Madagascar', 'Malaysia', 'Maldives', 'Mali', 'Malta', 'Mauritania', 'Mexico', 'Mauritius', 'Moldova', 'Mongolia', 'Montenegro', 'Morocco', 'Mozambique', 'Myanmar', 'Namibia', 'Nepal', 'Netherlands', 'Nicaragua', 'Niger', 'Macedonia', 'Norway', 'Oman', 'Pakistan', 'Paraguay', 'Panama', 'Peru', 'Philippines', 'Poland', 'Portugal', 'Qatar', 'Russian Federation', 'Rwanda', 'Saint Kitts and Nevis', 'Saint Lucia', 'Saint Vincent and the Grenadines', 'Samoa', 'San Marino', 'Sao Tome and Principe', 'Saudi Arabia', 'Senegal', 'Serbia', 'Seychelles', 'Singapore', 'Slovakia', 'Slovenia', 'Solomon Islands', 'South Africa', 'South Korea', 'South Sudan', 'Spain', 'Sri Lanka', 'Occupied Palestinian Territory', 'Sudan', 'Suriname', 'Sweden', 'Switzerland', 'Tanzania', 'Thailand', 'Timor-Leste', 'Togo', 'Tonga', 'Trinidad and Tobago', 'Tunisia', 'Turkey', 'Uganda', 'Ukraine', 'United Arab Emirates', 'United Kingdom', 'United States', 'Uruguay', 'Uzbekistan', 'Viet Nam', 'Zambia', 'Zimbabwe']\n"
     ]
    }
   ],
   "source": [
    "import pandas as pd\n",
    "from statsmodels.tsa.seasonal import STL\n",
    "from statsmodels.tsa.stattools import adfuller\n",
    "\n",
    "# 1. 读取CSV文件\n",
    "df = pd.read_csv(r\"C:\\Users\\rog\\Desktop\\CPI_X13ARIMA_SEATS.csv\")\n",
    "\n",
    "# 2. 定义一个函数进行ADF检验\n",
    "def adf_test(series):\n",
    "    # 去掉缺失值\n",
    "    series = series.dropna()\n",
    "    if len(series) == 0:  # 如果数据为空，则返回NaN\n",
    "        return float('nan')\n",
    "    result = adfuller(series)  # ADF检验\n",
    "    return result[1]  # 返回p值\n",
    "\n",
    "# 3. 季节性调整（STL分解）并检查每个国家的CPI数据\n",
    "def seasonally_adjust(df, column):\n",
    "    cpi_series = df[column].dropna()  # 去掉缺失值\n",
    "    \n",
    "    if len(cpi_series) == 0:  # 如果数据为空，则跳过\n",
    "        return float('nan'), cpi_series\n",
    "    \n",
    "    # 使用STL进行季节性调整，周期为12（月度数据通常选择12作为季节性周期）\n",
    "    stl = STL(cpi_series, period=12)\n",
    "    result = stl.fit()\n",
    "    \n",
    "    # 获取季节性调整后的残差部分\n",
    "    adjusted_cpi = result.resid\n",
    "    \n",
    "    # 进行ADF检验\n",
    "    p_value = adf_test(adjusted_cpi)\n",
    "    return p_value, adjusted_cpi\n",
    "\n",
    "# 存储季节性调整后通过平稳性检验的国家\n",
    "stationary_countries = []\n",
    "\n",
    "# 4. 对每个国家进行季节性调整并检查是否平稳\n",
    "for column in df.columns[1:]:  # 假设第一列是Date，跳过它\n",
    "    p_value, adjusted_cpi = seasonally_adjust(df, column)\n",
    "    \n",
    "    # 跳过p值为NaN的列\n",
    "    if p_value != p_value:  # 检查p_value是否为NaN\n",
    "        continue\n",
    "    \n",
    "    if p_value < 0.05:  # 如果p值小于0.05，说明调整后的数据是平稳的\n",
    "        stationary_countries.append(column)\n",
    "\n",
    "# 5. 输出季节性调整后平稳的国家\n",
    "print(\"季节性调整后平稳的国家：\")\n",
    "print(stationary_countries)\n",
    "\n"
   ]
  },
  {
   "cell_type": "code",
   "execution_count": 20,
   "metadata": {},
   "outputs": [
    {
     "name": "stdout",
     "output_type": "stream",
     "text": [
      "季节性调整后平稳的国家：\n",
      "['Afghanistan', 'Albania', 'Algeria', 'Angola', 'Antigua and Barbuda', 'Armenia', 'Austria', 'Azerbaijan', 'Bahamas', 'Bahrain', 'Bangladesh', 'Barbados', 'Belarus', 'Belgium', 'Benin', 'Bolivia', 'Bosnia and Herzegovina', 'Botswana', 'Brazil', 'Brunei', 'Bulgaria', 'Burundi', 'Burkina Faso', 'Cape Verde', 'Cambodia', 'Cameroon', 'Canada', 'Central African Republic', 'Chad', 'Chile', 'China', 'Colombia', 'Congo', 'Costa Rica', 'Croatia', 'Cyprus', 'Czech Republic', 'Denmark', 'Djibouti', 'Dominica', 'Dominican Republic', 'Ecuador', 'Egypt', 'El Salvador', 'Equatorial Guinea', 'Estonia', 'Swaziland', 'Ethiopia', 'Fiji', 'Finland', 'France', 'Gabon', 'Gambia', 'Georgia', 'Germany', 'Ghana', 'Greece', 'Grenada', 'Guatemala', 'Guinea', 'Guinea-Bissau', 'Guyana', 'Haiti', 'Honduras', 'Hong Kong Special Administrative Region of China', 'Hungary', 'Iceland', 'India', 'Indonesia', 'Iran', 'Iraq', 'Ireland', 'Israel', 'Italy', \"Côte d'Ivoire\", 'Jamaica', 'Japan', 'Jordan', 'Kazakhstan', 'Kenya', 'Kiribati', 'Kosovo', 'Kuwait', 'Kyrgyzstan', 'Laos', 'Latvia', 'Lesotho', 'Liberia', 'Libya', 'Lithuania', 'Luxembourg', 'Macao Special Administrative Region of China', 'Madagascar', 'Malaysia', 'Maldives', 'Mali', 'Malta', 'Mauritania', 'Mexico', 'Mauritius', 'Moldova', 'Mongolia', 'Montenegro', 'Morocco', 'Mozambique', 'Myanmar', 'Namibia', 'Nepal', 'Netherlands', 'Nicaragua', 'Niger', 'Macedonia', 'Norway', 'Oman', 'Pakistan', 'Paraguay', 'Panama', 'Peru', 'Philippines', 'Poland', 'Portugal', 'Qatar', 'Russian Federation', 'Rwanda', 'Saint Kitts and Nevis', 'Saint Lucia', 'Saint Vincent and the Grenadines', 'Samoa', 'San Marino', 'Sao Tome and Principe', 'Saudi Arabia', 'Senegal', 'Serbia', 'Seychelles', 'Singapore', 'Slovakia', 'Slovenia', 'Solomon Islands', 'South Africa', 'South Korea', 'South Sudan', 'Spain', 'Sri Lanka', 'Occupied Palestinian Territory', 'Sudan', 'Suriname', 'Sweden', 'Switzerland', 'Tanzania', 'Thailand', 'Timor-Leste', 'Togo', 'Tonga', 'Trinidad and Tobago', 'Tunisia', 'Turkey', 'Uganda', 'Ukraine', 'United Arab Emirates', 'United Kingdom', 'United States', 'Uruguay', 'Uzbekistan', 'Viet Nam', 'Zambia', 'Zimbabwe']\n",
      "\n",
      "China 描述性统计：\n",
      "count    313.000000\n",
      "mean      -0.000685\n",
      "std        0.363923\n",
      "min       -1.010725\n",
      "25%       -0.202081\n",
      "50%       -0.030568\n",
      "75%        0.192948\n",
      "max        1.359311\n",
      "Name: resid, dtype: float64\n",
      "\n",
      "France 描述性统计：\n",
      "count    313.000000\n",
      "mean      -0.001909\n",
      "std        0.192063\n",
      "min       -0.566616\n",
      "25%       -0.113676\n",
      "50%        0.002531\n",
      "75%        0.106899\n",
      "max        0.650073\n",
      "Name: resid, dtype: float64\n"
     ]
    }
   ],
   "source": [
    "import pandas as pd\n",
    "from statsmodels.tsa.seasonal import STL\n",
    "from statsmodels.tsa.stattools import adfuller\n",
    "\n",
    "# 1. 读取CSV文件\n",
    "df = pd.read_csv(r\"C:\\Users\\rog\\Desktop\\CPI_X13ARIMA_SEATS.csv\")\n",
    "\n",
    "# 2. 定义一个函数进行ADF检验\n",
    "def adf_test(series):\n",
    "    series = series.dropna()\n",
    "    if len(series) == 0:  # 如果数据为空，则返回NaN\n",
    "        return float('nan')\n",
    "    result = adfuller(series)  # ADF检验\n",
    "    return result[1]  # 返回p值\n",
    "\n",
    "# 3. 季节性调整（STL分解）并检查每个国家的CPI数据\n",
    "def seasonally_adjust(df, column):\n",
    "    cpi_series = df[column].dropna()  # 去掉缺失值\n",
    "    \n",
    "    if len(cpi_series) == 0:  # 如果数据为空，则跳过\n",
    "        return float('nan'), cpi_series\n",
    "    \n",
    "    # 使用STL进行季节性调整，周期为12（月度数据通常选择12作为季节性周期）\n",
    "    stl = STL(cpi_series, period=12)\n",
    "    result = stl.fit()\n",
    "    \n",
    "    # 获取季节性调整后的残差部分\n",
    "    adjusted_cpi = result.resid\n",
    "    \n",
    "    # 进行ADF检验\n",
    "    p_value = adf_test(adjusted_cpi)\n",
    "    return p_value, adjusted_cpi\n",
    "\n",
    "# 存储季节性调整后通过平稳性检验的国家\n",
    "stationary_countries = []\n",
    "\n",
    "# 季节性调整每个国家的CPI并进行ADF检验\n",
    "for column in df.columns[1:]:  # 假设第一列是Date，跳过它\n",
    "    p_value, adjusted_cpi = seasonally_adjust(df, column)\n",
    "    \n",
    "    if p_value != p_value:  # 如果p_value是NaN，则跳过\n",
    "        continue\n",
    "    \n",
    "    if p_value < 0.05:  # 如果p值小于0.05，说明调整后的数据是平稳的\n",
    "        stationary_countries.append(column)\n",
    "\n",
    "# 输出季节性调整后平稳的国家\n",
    "print(\"季节性调整后平稳的国家：\")\n",
    "print(stationary_countries)\n",
    "\n",
    "# 4. 输出中国、美国、法国的描述性统计\n",
    "countries_to_analyze = ['China', 'USA', 'France']\n",
    "\n",
    "for country in countries_to_analyze:\n",
    "    if country in df.columns:\n",
    "        print(f\"\\n{country} 描述性统计：\")\n",
    "        # 获取季节性调整后的数据\n",
    "        p_value, adjusted_cpi = seasonally_adjust(df, country)\n",
    "        \n",
    "        # 输出描述性统计\n",
    "        print(adjusted_cpi.describe())\n"
   ]
  }
 ],
 "metadata": {
  "kernelspec": {
   "display_name": "GAN",
   "language": "python",
   "name": "python3"
  },
  "language_info": {
   "codemirror_mode": {
    "name": "ipython",
    "version": 3
   },
   "file_extension": ".py",
   "mimetype": "text/x-python",
   "name": "python",
   "nbconvert_exporter": "python",
   "pygments_lexer": "ipython3",
   "version": "3.8.19"
  }
 },
 "nbformat": 4,
 "nbformat_minor": 2
}
