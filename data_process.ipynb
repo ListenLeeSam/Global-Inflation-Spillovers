{
 "cells": [
  {
   "cell_type": "code",
   "execution_count": 8,
   "metadata": {},
   "outputs": [
    {
     "name": "stdout",
     "output_type": "stream",
     "text": [
      "Reference area     Norway     Israel      India     France  United Kingdom  \\\n",
      "2001-01-01      83.503755  80.563814  61.207245  84.601172       81.177786   \n",
      "2001-02-01      84.155280  80.482987  61.207245  84.833448       81.289601   \n",
      "2001-03-01      84.372455  80.644641  61.399414  85.213535       81.625047   \n",
      "2001-04-01      84.698217  81.372082  61.710044  85.625297       82.072307   \n",
      "2001-05-01      85.132567  81.696528  61.862726  86.153196       82.743198   \n",
      "\n",
      "Reference area      Italy     Poland    Austria       Japan  Argentina  ...  \\\n",
      "2001-01-01      82.005144  78.537055  83.935342  102.408156  39.937974  ...   \n",
      "2001-02-01      82.284731  78.601219  84.055079  102.091756  39.846999  ...   \n",
      "2001-03-01      82.360005  78.986205  84.174815  101.986289  39.922921  ...   \n",
      "2001-04-01      82.714866  79.627847  84.653762  102.091756  40.189785  ...   \n",
      "2001-05-01      82.929933  80.526147  84.893235  102.197223  40.215795  ...   \n",
      "\n",
      "Reference area     Mexico   Thailand     Brazil    Türkiye  Indonesia  \\\n",
      "2001-01-01      66.173769  77.923029  54.360820  23.866074  45.882734   \n",
      "2001-02-01      66.129903  78.264850  54.610940  24.117820  46.283511   \n",
      "2001-03-01      66.548942  78.264850  54.818357  25.186006  46.696683   \n",
      "2001-04-01      66.884610  78.838622  55.136224  27.881588  46.909467   \n",
      "2001-05-01      67.038140  79.058364  55.362263  29.082192  47.438326   \n",
      "\n",
      "Reference area  Netherlands     Canada    Ireland  United States      Spain  \n",
      "2001-01-01          83.3177  82.684602  79.638166      80.300657  77.323194  \n",
      "2001-02-01          84.0492  83.113910  80.368792      80.621677  77.577049  \n",
      "2001-03-01          84.8354  83.371494  80.995042      80.805116  77.903931  \n",
      "2001-04-01          85.3048  83.972524  81.725668      81.126135  78.308476  \n",
      "2001-05-01          85.5887  84.659416  82.247543      81.493014  78.604640  \n",
      "\n",
      "[5 rows x 29 columns]\n"
     ]
    }
   ],
   "source": [
    "import pandas as pd\n",
    "\n",
    "# 读取数据\n",
    "file_path = \"WS_LONG_CPI_csv_col.csv\"  \n",
    "df = pd.read_csv(file_path)\n",
    "\n",
    "# 过滤 Frequency 列为 \"Monthly\"，并且 Unit of measure 为 \"Index, 2010 = 100\"\n",
    "df_monthly = df[(df[\"Frequency\"] == \"Monthly\") & (df[\"Unit of measure\"] == \"Index, 2010 = 100\")]\n",
    "\n",
    "# 提取时间列（格式为 YYYY-MM）\n",
    "date_columns = [col for col in df_monthly.columns if col.startswith(\"20\") or col.startswith(\"19\")]\n",
    "df_monthly = df_monthly[[\"Reference area\"] + date_columns]\n",
    "\n",
    "# 过滤时间范围 2001年1月至2024年12月\n",
    "date_range = pd.date_range(start=\"2001-01-01\", end=\"2024-12-01\", freq=\"MS\").strftime(\"%Y-%m\")\n",
    "filtered_columns = [col for col in date_columns if col in date_range]\n",
    "\n",
    "df_filtered = df_monthly[[\"Reference area\"] + filtered_columns]\n",
    "\n",
    "# 只保留指定国家（去掉 United Arab Emirates，加入 Singapore）\n",
    "selected_countries = [\n",
    "    \"United States\", \"China\", \"Germany\", \"Japan\", \"India\", \"United Kingdom\", \"France\",\n",
    "    \"Italy\", \"Brazil\", \"Canada\", \"Russia\", \"Mexico\", \"Korea\",  \"Spain\",\n",
    "    \"Indonesia\", \"Türkiye\", \"Netherlands\", \"Saudi Arabia\", \"Switzerland\", \"Poland\",\n",
    "    \"Belgium\", \"Argentina\", \"Sweden\", \"Ireland\", \"Norway\", \"Austria\", \"Israel\",\n",
    "    \"Thailand\", \"Singapore\"  \n",
    "]\n",
    "\n",
    "df_filtered = df_filtered[df_filtered[\"Reference area\"].isin(selected_countries)]\n",
    "\n",
    "# 转置数据\n",
    "df_transposed = df_filtered.set_index(\"Reference area\").T\n",
    "df_transposed.index = pd.to_datetime(df_transposed.index, format=\"%Y-%m\")  # 转换索引为时间格式\n",
    "\n",
    "# 保存到本地\n",
    "output_path = \"transposed_cpi_data_filtered.csv\"\n",
    "df_transposed.to_csv(output_path)\n",
    "\n",
    "# 显示前几行数据\n",
    "print(df_transposed.head())  # 直接打印前几行\n"
   ]
  }
 ],
 "metadata": {
  "kernelspec": {
   "display_name": "GAN",
   "language": "python",
   "name": "python3"
  },
  "language_info": {
   "codemirror_mode": {
    "name": "ipython",
    "version": 3
   },
   "file_extension": ".py",
   "mimetype": "text/x-python",
   "name": "python",
   "nbconvert_exporter": "python",
   "pygments_lexer": "ipython3",
   "version": "3.8.19"
  }
 },
 "nbformat": 4,
 "nbformat_minor": 2
}
